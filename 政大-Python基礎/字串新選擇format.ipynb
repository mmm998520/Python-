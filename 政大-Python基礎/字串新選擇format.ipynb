{
 "cells": [
  {
   "cell_type": "markdown",
   "metadata": {},
   "source": [
    "# 原本要這樣寫"
   ]
  },
  {
   "cell_type": "code",
   "execution_count": 11,
   "metadata": {},
   "outputs": [
    {
     "name": "stdout",
     "output_type": "stream",
     "text": [
      "名字:1\n",
      "居住地:2\n",
      "你好，我是1，我來自2\n"
     ]
    }
   ],
   "source": [
    "name = input(\"名字:\")\n",
    "place = input(\"居住地:\")\n",
    "\n",
    "print(\"你好，我是\" + name + \"，我來自\" + place)"
   ]
  },
  {
   "cell_type": "markdown",
   "metadata": {},
   "source": [
    "## format"
   ]
  },
  {
   "cell_type": "code",
   "execution_count": 9,
   "metadata": {},
   "outputs": [
    {
     "name": "stdout",
     "output_type": "stream",
     "text": [
      "名字:1\n",
      "居住地:2\n",
      "你好，我是1，我來自2\n"
     ]
    }
   ],
   "source": [
    "name = input(\"名字:\")\n",
    "place = input(\"居住地:\")\n",
    "\n",
    "print(\"你好，我是{}，我來自{}\".format(name,place))"
   ]
  },
  {
   "cell_type": "markdown",
   "metadata": {},
   "source": [
    "## 直接把input放format"
   ]
  },
  {
   "cell_type": "code",
   "execution_count": 10,
   "metadata": {},
   "outputs": [
    {
     "name": "stdout",
     "output_type": "stream",
     "text": [
      "名字:1\n",
      "居住地:2\n",
      "你好，我是1，我來自2\n"
     ]
    }
   ],
   "source": [
    "print(\"你好，我是{}，我來自{}\".format(input(\"名字:\"),input(\"居住地:\")))"
   ]
  },
  {
   "cell_type": "markdown",
   "metadata": {},
   "source": [
    "## 匯率"
   ]
  },
  {
   "cell_type": "code",
   "execution_count": 12,
   "metadata": {},
   "outputs": [
    {
     "name": "stdout",
     "output_type": "stream",
     "text": [
      "美金:10\n",
      "美金10元，合台幣後305.0元\n"
     ]
    }
   ],
   "source": [
    "美金 = int(input(\"美金:\"))\n",
    "\n",
    "print(\"美金\" + str(美金) +\"元，合台幣後\" + str(美金*30.5) +\"元\")"
   ]
  },
  {
   "cell_type": "markdown",
   "metadata": {},
   "source": [
    "## 用format做匯率"
   ]
  },
  {
   "cell_type": "code",
   "execution_count": 21,
   "metadata": {},
   "outputs": [
    {
     "name": "stdout",
     "output_type": "stream",
     "text": [
      "美金:10.1\n",
      "美金10.1元，合台幣後308.05元\n"
     ]
    }
   ],
   "source": [
    "美金 = float(input(\"美金:\"))\n",
    "\n",
    "print(\"美金{}元，合台幣後{}元\".format(美金,美金*30.5))"
   ]
  },
  {
   "cell_type": "code",
   "execution_count": null,
   "metadata": {},
   "outputs": [],
   "source": []
  }
 ],
 "metadata": {
  "kernelspec": {
   "display_name": "Python 3",
   "language": "python",
   "name": "python3"
  },
  "language_info": {
   "codemirror_mode": {
    "name": "ipython",
    "version": 3
   },
   "file_extension": ".py",
   "mimetype": "text/x-python",
   "name": "python",
   "nbconvert_exporter": "python",
   "pygments_lexer": "ipython3",
   "version": "3.7.4"
  }
 },
 "nbformat": 4,
 "nbformat_minor": 2
}
